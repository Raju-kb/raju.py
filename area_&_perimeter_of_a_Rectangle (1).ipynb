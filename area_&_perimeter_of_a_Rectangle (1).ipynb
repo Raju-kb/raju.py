{
  "nbformat": 4,
  "nbformat_minor": 0,
  "metadata": {
    "colab": {
      "provenance": []
    },
    "kernelspec": {
      "name": "python3",
      "display_name": "Python 3"
    },
    "language_info": {
      "name": "python"
    }
  },
  "cells": [
    {
      "cell_type": "markdown",
      "source": [
        "Convert Minutes to Hours and Minutes"
      ],
      "metadata": {
        "id": "gb9cybG3AS7A"
      }
    },
    {
      "cell_type": "code",
      "source": [
        "minutes = int(input(\"Enter minutes :\"))\n",
        "hours = minutes //60\n",
        "remaining_minutes = minutes % 60\n",
        "print(f\"Time : {hours} hours and {remaining_minutes } minutes\")"
      ],
      "metadata": {
        "colab": {
          "base_uri": "https://localhost:8080/"
        },
        "id": "RMG-wMH-JoHO",
        "outputId": "3a4b287f-be24-43c9-e7d3-bb15e4dd226f"
      },
      "execution_count": 14,
      "outputs": [
        {
          "output_type": "stream",
          "name": "stdout",
          "text": [
            "Enter minutes :130\n",
            "Time : 2 hours and 10 minutes\n"
          ]
        }
      ]
    }
  ]
}