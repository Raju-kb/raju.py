{
  "nbformat": 4,
  "nbformat_minor": 0,
  "metadata": {
    "colab": {
      "provenance": []
    },
    "kernelspec": {
      "name": "python3",
      "display_name": "Python 3"
    },
    "language_info": {
      "name": "python"
    }
  },
  "cells": [
    {
      "cell_type": "markdown",
      "source": [
        "Calculate Area and perimeter of a Rectangle"
      ],
      "metadata": {
        "id": "gb9cybG3AS7A"
      }
    },
    {
      "cell_type": "code",
      "source": [
        "length = float(input(\"Enter the length :\"))\n",
        "breath = float(input(\"enter the breath :\"))\n",
        "area = length * breath\n",
        "perimeter = 2 * (area)\n",
        "print(\"The area of rectangle is :\",area)\n",
        "print(\"The perimeter of rectangle is :\",perimeter)"
      ],
      "metadata": {
        "colab": {
          "base_uri": "https://localhost:8080/"
        },
        "outputId": "95ce9e5b-8eb5-40e1-aba7-f8860640291c",
        "id": "2b4xh6b8GeRN"
      },
      "execution_count": 11,
      "outputs": [
        {
          "output_type": "stream",
          "name": "stdout",
          "text": [
            "Enter the length :2\n",
            "enter the breath :2\n",
            "The area of rectangle is : 4.0\n",
            "The perimeter of rectangle is : 8.0\n"
          ]
        }
      ]
    }
  ]
}