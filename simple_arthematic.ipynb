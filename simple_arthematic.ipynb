{
  "nbformat": 4,
  "nbformat_minor": 0,
  "metadata": {
    "colab": {
      "provenance": []
    },
    "kernelspec": {
      "name": "python3",
      "display_name": "Python 3"
    },
    "language_info": {
      "name": "python"
    }
  },
  "cells": [
    {
      "cell_type": "code",
      "execution_count": null,
      "metadata": {
        "id": "sj4qx5Ye9ngN"
      },
      "outputs": [],
      "source": [
        "num1=int(input(\"enter the number 1:\"))\n",
        "num2=int(input(\"enter the number 2:\"))\n",
        "sum=num1+num2\n",
        "sub=num1-num2\n",
        "mul=num1*num2\n",
        "div=num1/num2\n",
        "print(\"the sum of a and b is \",sum)\n",
        "print(\"the sum of a and b is \",sub)\n",
        "print(\"the sum of a and b is \",mul)\n",
        "print(\"the sum of a and b is \",div)"
      ]
    }
  ]
}