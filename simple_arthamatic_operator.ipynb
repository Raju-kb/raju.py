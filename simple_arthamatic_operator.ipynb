{
  "nbformat": 4,
  "nbformat_minor": 0,
  "metadata": {
    "colab": {
      "provenance": []
    },
    "kernelspec": {
      "name": "python3",
      "display_name": "Python 3"
    },
    "language_info": {
      "name": "python"
    }
  },
  "cells": [
    {
      "cell_type": "markdown",
      "source": [
        "simple arthamatic operation"
      ],
      "metadata": {
        "id": "gb9cybG3AS7A"
      }
    },
    {
      "cell_type": "code",
      "source": [
        "num1=int(input(\"enter the number 1:\"))\n",
        "num2=int(input(\"enter the number 2:\"))\n",
        "sum=num1+num2\n",
        "sub=num1-num2\n",
        "mul=num1*num2\n",
        "div=num1/num2\n",
        "mod=num1%num1num2\n",
        "exp=num1**num2\n",
        "\n",
        "print(\"the sum of a and b is \" ,sum)\n",
        "print(\"the sub of a and b is \" ,sub)\n",
        "print(\"the mul of a and b is \" ,mul)\n",
        "print(\"the div of a and b is \" ,div)\n",
        "print(\"the mod of a and b is \" ,mod)\n",
        "print(\"the exp of a and b is \" ,exp)"
      ],
      "metadata": {
        "colab": {
          "base_uri": "https://localhost:8080/"
        },
        "id": "_-hAyE-ZAavY",
        "outputId": "a16ea976-ef0c-4156-e5fd-13099531d755"
      },
      "execution_count": 4,
      "outputs": [
        {
          "output_type": "stream",
          "name": "stdout",
          "text": [
            "enter the number 1:4\n",
            "enter the number 2:2\n",
            "the sum of a and b is  6\n",
            "the sub of a and b is  2\n",
            "the mul of a and b is  8\n",
            "the div of a and b is  2.0\n",
            "the mod of a and b is  0\n",
            "the exp of a and b is  16\n"
          ]
        }
      ]
    }
  ]
}