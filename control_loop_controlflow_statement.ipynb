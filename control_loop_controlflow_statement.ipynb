{
  "nbformat": 4,
  "nbformat_minor": 0,
  "metadata": {
    "colab": {
      "provenance": []
    },
    "kernelspec": {
      "name": "python3",
      "display_name": "Python 3"
    },
    "language_info": {
      "name": "python"
    }
  },
  "cells": [
    {
      "cell_type": "markdown",
      "source": [
        "if statement"
      ],
      "metadata": {
        "id": "sVi3ozAv2_Fm"
      }
    },
    {
      "cell_type": "code",
      "source": [
        "age = 18\n",
        "if age >= 18:\n",
        "  print(\"you are eligible to vote.\")"
      ],
      "metadata": {
        "colab": {
          "base_uri": "https://localhost:8080/"
        },
        "id": "r-uUwO2f3CyP",
        "outputId": "49ecb264-60db-4152-dc82-0e98a61f7961"
      },
      "execution_count": 3,
      "outputs": [
        {
          "output_type": "stream",
          "name": "stdout",
          "text": [
            "you are eligible to vote.\n"
          ]
        }
      ]
    },
    {
      "cell_type": "markdown",
      "source": [
        "if else statement"
      ],
      "metadata": {
        "id": "GACZBGA-3G8P"
      }
    },
    {
      "cell_type": "code",
      "source": [
        "num = int(input(\"enter a number.\"))\n",
        "if num % 2 == 0:\n",
        "  print(\"number is even.\")\n",
        "else:\n",
        "  print(\"number is odd.\")"
      ],
      "metadata": {
        "colab": {
          "base_uri": "https://localhost:8080/"
        },
        "id": "e8IFluxA3KvG",
        "outputId": "c7ae7c3e-0501-490a-d89b-597e4ee8a006"
      },
      "execution_count": 2,
      "outputs": [
        {
          "output_type": "stream",
          "name": "stdout",
          "text": [
            "enter a number.45\n",
            "number is odd.\n"
          ]
        }
      ]
    },
    {
      "cell_type": "markdown",
      "source": [
        "elif statement"
      ],
      "metadata": {
        "id": "GSwZ1PtE5KIZ"
      }
    },
    {
      "cell_type": "code",
      "source": [
        "marks = int(input(\"enter your marks.\"))\n",
        "if marks >= 90:\n",
        "  print(\"grade A.\")\n",
        "elif marks >=75:\n",
        "  print(\"grade B.\")\n",
        "elif marks >=50:\n",
        "  print(\"grade C.\")\n",
        "else:\n",
        "  print(\"your fail.\")"
      ],
      "metadata": {
        "colab": {
          "base_uri": "https://localhost:8080/"
        },
        "id": "kj0ZUDrx5MTp",
        "outputId": "b6930258-1e3b-4ddb-cb20-b3105ad5eafe"
      },
      "execution_count": 1,
      "outputs": [
        {
          "output_type": "stream",
          "name": "stdout",
          "text": [
            "enter your marks.45\n",
            "your fail.\n"
          ]
        }
      ]
    },
    {
      "cell_type": "markdown",
      "source": [
        "for statement"
      ],
      "metadata": {
        "id": "jD5r39mu6G0X"
      }
    },
    {
      "cell_type": "code",
      "source": [
        "for i in range(5):\n",
        "  print(\"Iteration:\",i)"
      ],
      "metadata": {
        "colab": {
          "base_uri": "https://localhost:8080/"
        },
        "id": "QVhW2s7Y6Mco",
        "outputId": "be437318-c5ea-422f-a6cb-ea302bc2d16f"
      },
      "execution_count": 4,
      "outputs": [
        {
          "output_type": "stream",
          "name": "stdout",
          "text": [
            "Iteration: 0\n",
            "Iteration: 1\n",
            "Iteration: 2\n",
            "Iteration: 3\n",
            "Iteration: 4\n"
          ]
        }
      ]
    },
    {
      "cell_type": "code",
      "source": [
        "for i in range(5,10):\n",
        "  print(\"Iteration:\",i)"
      ],
      "metadata": {
        "colab": {
          "base_uri": "https://localhost:8080/"
        },
        "id": "R9zoVz1n7CZw",
        "outputId": "60031368-583f-44db-e951-f89ad6005220"
      },
      "execution_count": 5,
      "outputs": [
        {
          "output_type": "stream",
          "name": "stdout",
          "text": [
            "Iteration: 5\n",
            "Iteration: 6\n",
            "Iteration: 7\n",
            "Iteration: 8\n",
            "Iteration: 9\n"
          ]
        }
      ]
    },
    {
      "cell_type": "code",
      "source": [
        "for i in range(5,50,5):\n",
        "  print(\"Iteration:\",i)"
      ],
      "metadata": {
        "colab": {
          "base_uri": "https://localhost:8080/"
        },
        "id": "juW2Qo7h7Dg2",
        "outputId": "1d88f2da-f05a-4bee-e1f9-e72697dd06fd"
      },
      "execution_count": 6,
      "outputs": [
        {
          "output_type": "stream",
          "name": "stdout",
          "text": [
            "Iteration: 5\n",
            "Iteration: 10\n",
            "Iteration: 15\n",
            "Iteration: 20\n",
            "Iteration: 25\n",
            "Iteration: 30\n",
            "Iteration: 35\n",
            "Iteration: 40\n",
            "Iteration: 45\n"
          ]
        }
      ]
    },
    {
      "cell_type": "markdown",
      "source": [
        "while statement"
      ],
      "metadata": {
        "id": "0cHRrQhs8EN1"
      }
    },
    {
      "cell_type": "code",
      "source": [
        "count = 0\n",
        "while count < 5:\n",
        "  print(\"count:\",count)\n",
        "  count += 1"
      ],
      "metadata": {
        "colab": {
          "base_uri": "https://localhost:8080/"
        },
        "id": "r8RjcVcy8Hgt",
        "outputId": "8bf61550-d43b-4303-bd9b-429616508d87"
      },
      "execution_count": 7,
      "outputs": [
        {
          "output_type": "stream",
          "name": "stdout",
          "text": [
            "count: 0\n",
            "count: 1\n",
            "count: 2\n",
            "count: 3\n",
            "count: 4\n"
          ]
        }
      ]
    },
    {
      "cell_type": "markdown",
      "source": [
        "control flow tool\n",
        "\n",
        "break"
      ],
      "metadata": {
        "id": "ELV9U7eb9SzM"
      }
    },
    {
      "cell_type": "code",
      "source": [
        "for i in range(10):\n",
        "  if i == 5:\n",
        "    break\n",
        "  print(\"interation: \",i)"
      ],
      "metadata": {
        "colab": {
          "base_uri": "https://localhost:8080/"
        },
        "id": "M0ezMpV_9cMG",
        "outputId": "cf1e73da-b4dd-48b4-d05d-7e8628dcc778"
      },
      "execution_count": 8,
      "outputs": [
        {
          "output_type": "stream",
          "name": "stdout",
          "text": [
            "interation:  0\n",
            "interation:  1\n",
            "interation:  2\n",
            "interation:  3\n",
            "interation:  4\n"
          ]
        }
      ]
    },
    {
      "cell_type": "markdown",
      "source": [
        "continue"
      ],
      "metadata": {
        "id": "gtGJmj2D9vWA"
      }
    },
    {
      "cell_type": "code",
      "source": [
        "for i in range(10):\n",
        "  if i == 5:\n",
        "    continue\n",
        "  print(\"interation: \",i)"
      ],
      "metadata": {
        "colab": {
          "base_uri": "https://localhost:8080/"
        },
        "id": "LtJMpUjF9w7h",
        "outputId": "f919f3bc-e2cf-4ff7-d5a5-aa659be1c4d8"
      },
      "execution_count": 9,
      "outputs": [
        {
          "output_type": "stream",
          "name": "stdout",
          "text": [
            "interation:  0\n",
            "interation:  1\n",
            "interation:  2\n",
            "interation:  3\n",
            "interation:  4\n",
            "interation:  6\n",
            "interation:  7\n",
            "interation:  8\n",
            "interation:  9\n"
          ]
        }
      ]
    },
    {
      "cell_type": "markdown",
      "source": [
        "pass ( do nothing,used as a placeholder.)"
      ],
      "metadata": {
        "id": "xqhwbjSr_O9f"
      }
    },
    {
      "cell_type": "code",
      "source": [
        "for i in range(10):\n",
        "  if i == 5:\n",
        "    pass\n",
        "  print(\"interation: \",i)"
      ],
      "metadata": {
        "colab": {
          "base_uri": "https://localhost:8080/"
        },
        "id": "svK7NS8l_VJ3",
        "outputId": "db2a47fa-3194-41ba-c2a6-448cab6435a8"
      },
      "execution_count": 10,
      "outputs": [
        {
          "output_type": "stream",
          "name": "stdout",
          "text": [
            "interation:  0\n",
            "interation:  1\n",
            "interation:  2\n",
            "interation:  3\n",
            "interation:  4\n",
            "interation:  5\n",
            "interation:  6\n",
            "interation:  7\n",
            "interation:  8\n",
            "interation:  9\n"
          ]
        }
      ]
    },
    {
      "cell_type": "markdown",
      "source": [],
      "metadata": {
        "id": "ekwSwm6bAS3M"
      }
    }
  ]
}