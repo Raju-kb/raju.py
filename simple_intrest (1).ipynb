{
  "nbformat": 4,
  "nbformat_minor": 0,
  "metadata": {
    "colab": {
      "provenance": []
    },
    "kernelspec": {
      "name": "python3",
      "display_name": "Python 3"
    },
    "language_info": {
      "name": "python"
    }
  },
  "cells": [
    {
      "cell_type": "markdown",
      "source": [
        "simple intrest"
      ],
      "metadata": {
        "id": "gb9cybG3AS7A"
      }
    },
    {
      "cell_type": "code",
      "source": [
        "principal = float(input(\"Enter the principal :\"))\n",
        "rate      = float(input(\"Enter the rate of interest :\"))\n",
        "time      = float(input(\"Enter the time :\"))\n",
        "interest = (principal * rate *  time)/100\n",
        "print(\"The intrest is :\",)"
      ],
      "metadata": {
        "colab": {
          "base_uri": "https://localhost:8080/",
          "height": 228
        },
        "id": "_-hAyE-ZAavY",
        "outputId": "9dd0ba02-3737-4b68-d402-d63ff851c746"
      },
      "execution_count": 8,
      "outputs": [
        {
          "name": "stdout",
          "output_type": "stream",
          "text": [
            "Enter the principal :100\n",
            "Enter the rate of interest :4\n",
            "Enter the time :1\n"
          ]
        },
        {
          "output_type": "error",
          "ename": "NameError",
          "evalue": "name 'intrest' is not defined",
          "traceback": [
            "\u001b[0;31m---------------------------------------------------------------------------\u001b[0m",
            "\u001b[0;31mNameError\u001b[0m                                 Traceback (most recent call last)",
            "\u001b[0;32m<ipython-input-8-60df5bdc2208>\u001b[0m in \u001b[0;36m<cell line: 5>\u001b[0;34m()\u001b[0m\n\u001b[1;32m      3\u001b[0m \u001b[0mtime\u001b[0m      \u001b[0;34m=\u001b[0m \u001b[0mfloat\u001b[0m\u001b[0;34m(\u001b[0m\u001b[0minput\u001b[0m\u001b[0;34m(\u001b[0m\u001b[0;34m\"Enter the time :\"\u001b[0m\u001b[0;34m)\u001b[0m\u001b[0;34m)\u001b[0m\u001b[0;34m\u001b[0m\u001b[0;34m\u001b[0m\u001b[0m\n\u001b[1;32m      4\u001b[0m \u001b[0minterest\u001b[0m \u001b[0;34m=\u001b[0m \u001b[0;34m(\u001b[0m\u001b[0mprincipal\u001b[0m \u001b[0;34m*\u001b[0m \u001b[0mrate\u001b[0m \u001b[0;34m*\u001b[0m  \u001b[0mtime\u001b[0m\u001b[0;34m)\u001b[0m\u001b[0;34m/\u001b[0m\u001b[0;36m100\u001b[0m\u001b[0;34m\u001b[0m\u001b[0;34m\u001b[0m\u001b[0m\n\u001b[0;32m----> 5\u001b[0;31m \u001b[0mprint\u001b[0m\u001b[0;34m(\u001b[0m\u001b[0;34m\"The intrest is :\"\u001b[0m\u001b[0;34m,\u001b[0m\u001b[0mintrest\u001b[0m\u001b[0;34m)\u001b[0m\u001b[0;34m\u001b[0m\u001b[0;34m\u001b[0m\u001b[0m\n\u001b[0m",
            "\u001b[0;31mNameError\u001b[0m: name 'intrest' is not defined"
          ]
        }
      ]
    },
    {
      "cell_type": "code",
      "source": [
        "principal = float(input(\"Enter the principal :\"))\n",
        "rate      = float(input(\"Enter the rate of interest :\"))\n",
        "time      = float(input(\"Enter the time :\"))\n",
        "interest = (principal * rate *  time)/100\n",
        "print(\"The intrest is :\",interest)"
      ],
      "metadata": {
        "colab": {
          "base_uri": "https://localhost:8080/"
        },
        "outputId": "e3659530-326e-4edb-f3eb-5a7003bc420c",
        "id": "2b4xh6b8GeRN"
      },
      "execution_count": 10,
      "outputs": [
        {
          "output_type": "stream",
          "name": "stdout",
          "text": [
            "Enter the principal :100\n",
            "Enter the rate of interest :4\n",
            "Enter the time :1\n",
            "The intrest is : 4.0\n"
          ]
        }
      ]
    }
  ]
}