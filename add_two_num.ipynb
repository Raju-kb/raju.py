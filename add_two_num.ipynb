{
  "nbformat": 4,
  "nbformat_minor": 0,
  "metadata": {
    "colab": {
      "provenance": []
    },
    "kernelspec": {
      "name": "python3",
      "display_name": "Python 3"
    },
    "language_info": {
      "name": "python"
    }
  },
  "cells": [
    {
      "cell_type": "markdown",
      "source": [
        "Add two num"
      ],
      "metadata": {
        "id": "gb9cybG3AS7A"
      }
    },
    {
      "cell_type": "code",
      "source": [
        "num1=int(input(\"enter the number 1:\"))\n",
        "num2=int(input(\"enter the number 2:\"))\n",
        "sum=num1+num2\n",
        "print(\"the sum of a and b is \",sum)"
      ],
      "metadata": {
        "id": "_-hAyE-ZAavY"
      },
      "execution_count": null,
      "outputs": []
    }
  ]
}