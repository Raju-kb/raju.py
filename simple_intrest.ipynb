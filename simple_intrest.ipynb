{
  "nbformat": 4,
  "nbformat_minor": 0,
  "metadata": {
    "colab": {
      "provenance": []
    },
    "kernelspec": {
      "name": "python3",
      "display_name": "Python 3"
    },
    "language_info": {
      "name": "python"
    }
  },
  "cells": [
    {
      "cell_type": "markdown",
      "source": [
        "simple intrest"
      ],
      "metadata": {
        "id": "gb9cybG3AS7A"
      }
    },
    {
      "cell_type": "code",
      "source": [
        "principal = float(input(\"Enter the principal\"))\n",
        "rate      = float(input(\"Enter the rate of interest\"))\n",
        "time      = int (input(\"Enter the time\"))\n",
        "interest = (principal * rate *  time)/100\n",
        "print(\"The intrest is :\",intrest)"
      ],
      "metadata": {
        "colab": {
          "base_uri": "https://localhost:8080/"
        },
        "id": "_-hAyE-ZAavY",
        "outputId": "c7c16ce5-ad54-4aaa-8f84-85bc0e3f2612"
      },
      "execution_count": 5,
      "outputs": [
        {
          "output_type": "stream",
          "name": "stdout",
          "text": [
            "Enter temperature in celsius:45\n",
            "Temperature in fahrenheit : 113.0\n"
          ]
        }
      ]
    }
  ]
}