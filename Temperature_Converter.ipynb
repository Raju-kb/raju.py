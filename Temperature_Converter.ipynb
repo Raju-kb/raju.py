{
  "nbformat": 4,
  "nbformat_minor": 0,
  "metadata": {
    "colab": {
      "provenance": []
    },
    "kernelspec": {
      "name": "python3",
      "display_name": "Python 3"
    },
    "language_info": {
      "name": "python"
    }
  },
  "cells": [
    {
      "cell_type": "markdown",
      "source": [
        "Temperature Converter"
      ],
      "metadata": {
        "id": "gb9cybG3AS7A"
      }
    },
    {
      "cell_type": "code",
      "source": [
        "celsius = float(input(\"Enter temperature in celsius:\"))\n",
        "fahrenheit = ( celsius * 9/5 ) + 32\n",
        "print(\"Temperature in fahrenheit :\",fahrenheit)"
      ],
      "metadata": {
        "colab": {
          "base_uri": "https://localhost:8080/"
        },
        "id": "_-hAyE-ZAavY",
        "outputId": "c7c16ce5-ad54-4aaa-8f84-85bc0e3f2612"
      },
      "execution_count": 5,
      "outputs": [
        {
          "output_type": "stream",
          "name": "stdout",
          "text": [
            "Enter temperature in celsius:45\n",
            "Temperature in fahrenheit : 113.0\n"
          ]
        }
      ]
    }
  ]
}